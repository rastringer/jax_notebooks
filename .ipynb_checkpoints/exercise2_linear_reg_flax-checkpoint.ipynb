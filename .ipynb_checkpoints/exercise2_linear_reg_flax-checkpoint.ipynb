{
 "cells": [
  {
   "cell_type": "markdown",
   "metadata": {
    "id": "z5lAxbrS145P"
   },
   "source": [
    "### Exercise 2: Linear Regression in Flax\n",
    "\n",
    "<a target=\"_blank\" href=\"https://colab.research.google.com/github/rastringer/jax_notebooks/blob/master/exercise2_linear_reg_flax.ipynb\">\n",
    "  <img src=\"https://colab.research.google.com/assets/colab-badge.svg\" alt=\"Open In Colab\"/>\n",
    "</a>"
   ]
  },
  {
   "cell_type": "code",
   "execution_count": 8,
   "metadata": {},
   "outputs": [
    {
     "name": "stdout",
     "output_type": "stream",
     "text": [
      "nvcc: NVIDIA (R) Cuda compiler driver\n",
      "Copyright (c) 2005-2021 NVIDIA Corporation\n",
      "Built on Mon_May__3_19:15:13_PDT_2021\n",
      "Cuda compilation tools, release 11.3, V11.3.109\n",
      "Build cuda_11.3.r11.3/compiler.29920130_0\n"
     ]
    }
   ],
   "source": [
    "!nvcc --version"
   ]
  },
  {
   "cell_type": "code",
   "execution_count": 9,
   "metadata": {},
   "outputs": [
    {
     "name": "stdout",
     "output_type": "stream",
     "text": [
      "Looking in links: https://storage.googleapis.com/jax-releases/jax_cuda_releases.html\n",
      "Requirement already satisfied: jax[cuda11_pip] in /opt/conda/lib/python3.7/site-packages (0.2.22)\n",
      "Collecting jax[cuda11_pip]\n",
      "  Using cached jax-0.3.25-py3-none-any.whl\n",
      "\u001b[33mWARNING: jax 0.3.25 does not provide the extra 'cuda11_pip'\u001b[0m\u001b[33m\n",
      "\u001b[0mRequirement already satisfied: numpy>=1.20 in /opt/conda/lib/python3.7/site-packages (from jax[cuda11_pip]) (1.21.6)\n",
      "Requirement already satisfied: opt-einsum in /home/jupyter/.local/lib/python3.7/site-packages (from jax[cuda11_pip]) (3.3.0)\n",
      "Requirement already satisfied: scipy>=1.5 in /opt/conda/lib/python3.7/site-packages (from jax[cuda11_pip]) (1.7.3)\n",
      "Requirement already satisfied: typing-extensions in /opt/conda/lib/python3.7/site-packages (from jax[cuda11_pip]) (4.5.0)\n",
      "Installing collected packages: jax\n",
      "  Attempting uninstall: jax\n",
      "    Found existing installation: jax 0.2.22\n",
      "    Uninstalling jax-0.2.22:\n",
      "      Successfully uninstalled jax-0.2.22\n",
      "Successfully installed jax-0.3.25\n"
     ]
    }
   ],
   "source": [
    "!pip install --upgrade \"jax[cuda11_pip]\" -f https://storage.googleapis.com/jax-releases/jax_cuda_releases.html"
   ]
  },
  {
   "cell_type": "code",
   "execution_count": 6,
   "metadata": {
    "colab": {
     "base_uri": "https://localhost:8080/"
    },
    "executionInfo": {
     "elapsed": 3269,
     "status": "ok",
     "timestamp": 1685486924860,
     "user": {
      "displayName": "Robin Stringer",
      "userId": "05796722230835218202"
     },
     "user_tz": -60
    },
    "id": "jaAZzJrN1_2p",
    "outputId": "f36117e5-a194-49d6-cad4-bac232275010"
   },
   "outputs": [
    {
     "ename": "ImportError",
     "evalue": "cannot import name 'custom_ivjp' from 'jax._src.api' (/home/jupyter/.local/lib/python3.7/site-packages/jax/_src/api.py)",
     "output_type": "error",
     "traceback": [
      "\u001b[0;31m---------------------------------------------------------------------------\u001b[0m",
      "\u001b[0;31mImportError\u001b[0m                               Traceback (most recent call last)",
      "\u001b[0;32m/tmp/ipykernel_1/2077405435.py\u001b[0m in \u001b[0;36m<module>\u001b[0;34m\u001b[0m\n\u001b[0;32m----> 1\u001b[0;31m \u001b[0;32mimport\u001b[0m \u001b[0mjax\u001b[0m\u001b[0;34m\u001b[0m\u001b[0;34m\u001b[0m\u001b[0m\n\u001b[0m\u001b[1;32m      2\u001b[0m \u001b[0;32mfrom\u001b[0m \u001b[0mjax\u001b[0m \u001b[0;32mimport\u001b[0m \u001b[0mnumpy\u001b[0m \u001b[0;32mas\u001b[0m \u001b[0mjnp\u001b[0m\u001b[0;34m,\u001b[0m \u001b[0mrandom\u001b[0m\u001b[0;34m,\u001b[0m \u001b[0mlax\u001b[0m\u001b[0;34m,\u001b[0m \u001b[0mjit\u001b[0m\u001b[0;34m\u001b[0m\u001b[0;34m\u001b[0m\u001b[0m\n\u001b[1;32m      3\u001b[0m \u001b[0;32mfrom\u001b[0m \u001b[0mflax\u001b[0m \u001b[0;32mimport\u001b[0m \u001b[0mlinen\u001b[0m \u001b[0;32mas\u001b[0m \u001b[0mnn\u001b[0m\u001b[0;34m\u001b[0m\u001b[0;34m\u001b[0m\u001b[0m\n\u001b[1;32m      4\u001b[0m \u001b[0;34m\u001b[0m\u001b[0m\n\u001b[1;32m      5\u001b[0m \u001b[0mX\u001b[0m \u001b[0;34m=\u001b[0m \u001b[0mjnp\u001b[0m\u001b[0;34m.\u001b[0m\u001b[0mones\u001b[0m\u001b[0;34m(\u001b[0m\u001b[0;34m(\u001b[0m\u001b[0;36m1\u001b[0m\u001b[0;34m,\u001b[0m \u001b[0;36m10\u001b[0m\u001b[0;34m)\u001b[0m\u001b[0;34m)\u001b[0m\u001b[0;34m\u001b[0m\u001b[0;34m\u001b[0m\u001b[0m\n",
      "\u001b[0;32m/opt/conda/lib/python3.7/site-packages/jax/__init__.py\u001b[0m in \u001b[0;36m<module>\u001b[0;34m\u001b[0m\n\u001b[1;32m     51\u001b[0m   \u001b[0mnumpy_rank_promotion\u001b[0m \u001b[0;32mas\u001b[0m \u001b[0mnumpy_rank_promotion\u001b[0m\u001b[0;34m,\u001b[0m\u001b[0;34m\u001b[0m\u001b[0;34m\u001b[0m\u001b[0m\n\u001b[1;32m     52\u001b[0m )\n\u001b[0;32m---> 53\u001b[0;31m from ._src.api import (\n\u001b[0m\u001b[1;32m     54\u001b[0m   \u001b[0mad\u001b[0m\u001b[0;34m,\u001b[0m  \u001b[0;31m# TODO(phawkins): update users to avoid this.\u001b[0m\u001b[0;34m\u001b[0m\u001b[0;34m\u001b[0m\u001b[0m\n\u001b[1;32m     55\u001b[0m   \u001b[0mcheckpoint\u001b[0m \u001b[0;32mas\u001b[0m \u001b[0mcheckpoint\u001b[0m\u001b[0;34m,\u001b[0m\u001b[0;34m\u001b[0m\u001b[0;34m\u001b[0m\u001b[0m\n",
      "\u001b[0;31mImportError\u001b[0m: cannot import name 'custom_ivjp' from 'jax._src.api' (/home/jupyter/.local/lib/python3.7/site-packages/jax/_src/api.py)"
     ]
    }
   ],
   "source": [
    "import jax\n",
    "from jax import numpy as jnp, random, lax, jit\n",
    "from flax import linen as nn\n",
    "\n",
    "X = jnp.ones((1, 10))\n",
    "Y = jnp.ones((5,))\n",
    "\n",
    "model = nn.Dense(features=5)\n",
    "\n",
    "@jit\n",
    "def predict(params):\n",
    "  return model.apply({'params': params}, X)\n",
    "\n",
    "@jit\n",
    "def loss_fn(params):\n",
    "  return jnp.mean(jnp.abs(Y - predict(params)))\n",
    "\n",
    "@jit\n",
    "def init_params(rng):\n",
    "  mlp_variables = model.init({'params': rng}, X)\n",
    "  return mlp_variables['params']\n",
    "\n",
    "# Get initial parameters\n",
    "params = init_params(jax.random.PRNGKey(42))\n",
    "print(\"initial params\", params)\n",
    "\n",
    "# Run SGD.\n",
    "for i in range(50):\n",
    "  loss, grad = jax.value_and_grad(loss_fn)(params)\n",
    "  print(i, \"loss = \", loss, \"Yhat = \", predict(params))\n",
    "  lr = 0.03\n",
    "  params = jax.tree_util.tree_map(lambda x, d: x - lr * d, params, grad)"
   ]
  },
  {
   "cell_type": "code",
   "execution_count": null,
   "metadata": {
    "id": "RMdNpCkn2APn"
   },
   "outputs": [],
   "source": []
  }
 ],
 "metadata": {
  "colab": {
   "authorship_tag": "ABX9TyP2iG/ZUvKsGUS/phPkkvLs",
   "provenance": []
  },
  "kernelspec": {
   "display_name": "Python (Local)",
   "language": "python",
   "name": "local-base"
  },
  "language_info": {
   "codemirror_mode": {
    "name": "ipython",
    "version": 3
   },
   "file_extension": ".py",
   "mimetype": "text/x-python",
   "name": "python",
   "nbconvert_exporter": "python",
   "pygments_lexer": "ipython3",
   "version": "3.7.12"
  }
 },
 "nbformat": 4,
 "nbformat_minor": 4
}
